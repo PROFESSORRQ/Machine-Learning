{
  "nbformat": 4,
  "nbformat_minor": 0,
  "metadata": {
    "colab": {
      "name": "Ansh_101803121.ipynb",
      "provenance": [],
      "collapsed_sections": [],
      "authorship_tag": "ABX9TyO6J6ys4aEBv7u5zyFF4cut",
      "include_colab_link": true
    },
    "kernelspec": {
      "name": "python3",
      "display_name": "Python 3"
    },
    "language_info": {
      "name": "python"
    }
  },
  "cells": [
    {
      "cell_type": "markdown",
      "metadata": {
        "id": "view-in-github",
        "colab_type": "text"
      },
      "source": [
        "<a href=\"https://colab.research.google.com/github/PROFESSORRQ/ANSH/blob/main/Ansh_101803121.ipynb\" target=\"_parent\"><img src=\"https://colab.research.google.com/assets/colab-badge.svg\" alt=\"Open In Colab\"/></a>"
      ]
    },
    {
      "cell_type": "code",
      "metadata": {
        "id": "niIWYGfOhECp"
      },
      "source": [
        "Q- 1,2,3,4,6,7,9,10,11"
      ],
      "execution_count": null,
      "outputs": []
    },
    {
      "cell_type": "code",
      "metadata": {
        "colab": {
          "base_uri": "https://localhost:8080/"
        },
        "id": "2YcN6Q_yhRPU",
        "outputId": "5ecc34d6-72cd-4159-aa8d-4486c22d2c71"
      },
      "source": [
        "import nltk\n",
        "nltk.download('punkt')\n",
        "nltk.download('stop')\n",
        "nltk.download('stopwords')"
      ],
      "execution_count": 1,
      "outputs": [
        {
          "output_type": "stream",
          "text": [
            "[nltk_data] Downloading package punkt to /root/nltk_data...\n",
            "[nltk_data]   Unzipping tokenizers/punkt.zip.\n",
            "[nltk_data] Error loading stop: Package 'stop' not found in index\n",
            "[nltk_data] Downloading package stopwords to /root/nltk_data...\n",
            "[nltk_data]   Unzipping corpora/stopwords.zip.\n"
          ],
          "name": "stdout"
        },
        {
          "output_type": "execute_result",
          "data": {
            "text/plain": [
              "True"
            ]
          },
          "metadata": {
            "tags": []
          },
          "execution_count": 1
        }
      ]
    },
    {
      "cell_type": "code",
      "metadata": {
        "colab": {
          "base_uri": "https://localhost:8080/"
        },
        "id": "lRSqYaFHhiM9",
        "outputId": "2c690eef-48f7-4346-dc89-406ba6432497"
      },
      "source": [
        "import spacy\n",
        "nlp=spacy.load(\"en_core_web_sm\")\n",
        "nlp"
      ],
      "execution_count": 2,
      "outputs": [
        {
          "output_type": "execute_result",
          "data": {
            "text/plain": [
              "<spacy.lang.en.English at 0x7fe58d5f6f10>"
            ]
          },
          "metadata": {
            "tags": []
          },
          "execution_count": 2
        }
      ]
    },
    {
      "cell_type": "code",
      "metadata": {
        "colab": {
          "base_uri": "https://localhost:8080/"
        },
        "id": "foaMO_LnhtNK",
        "outputId": "1e35df59-db57-4eb8-fc31-5176fa48a77b"
      },
      "source": [
        "text=\"Last week, the University of Cambridge shared its own research that shows if everyone wears a mask outside home,dreaded ‘second wave’ of the pandemic can be avoided.\"\n",
        "tokens=nltk.word_tokenize(text)\n",
        "for token in tokens:\n",
        "  print(token)\n",
        "nlp=spacy.load(\"en_core_web_sm\")\n",
        "doc=nlp(text)\n",
        "for token in doc:\n",
        "  print(token.text)"
      ],
      "execution_count": 4,
      "outputs": [
        {
          "output_type": "stream",
          "text": [
            "Last\n",
            "week\n",
            ",\n",
            "the\n",
            "University\n",
            "of\n",
            "Cambridge\n",
            "shared\n",
            "its\n",
            "own\n",
            "research\n",
            "that\n",
            "shows\n",
            "if\n",
            "everyone\n",
            "wears\n",
            "a\n",
            "mask\n",
            "outside\n",
            "home\n",
            ",\n",
            "dreaded\n",
            "‘\n",
            "second\n",
            "wave\n",
            "’\n",
            "of\n",
            "the\n",
            "pandemic\n",
            "can\n",
            "be\n",
            "avoided\n",
            ".\n",
            "Last\n",
            "week\n",
            ",\n",
            "the\n",
            "University\n",
            "of\n",
            "Cambridge\n",
            "shared\n",
            "its\n",
            "own\n",
            "research\n",
            "that\n",
            "shows\n",
            "if\n",
            "everyone\n",
            "wears\n",
            "a\n",
            "mask\n",
            "outside\n",
            "home\n",
            ",\n",
            "dreaded\n",
            "‘\n",
            "second\n",
            "wave\n",
            "’\n",
            "of\n",
            "the\n",
            "pandemic\n",
            "can\n",
            "be\n",
            "avoided\n",
            ".\n"
          ],
          "name": "stdout"
        }
      ]
    },
    {
      "cell_type": "code",
      "metadata": {
        "colab": {
          "base_uri": "https://localhost:8080/"
        },
        "id": "VT3WhnT7h-7s",
        "outputId": "3d7a061b-a4df-4cac-ae75-a1c1279a4d00"
      },
      "source": [
        "text=\"\"\"The outbreak of coronavirus disease 2019 (COVID-19) has created a global health crisis that has had a deep impact on the way we perceive our world and our everyday lives. Not only the rate of contagion and patterns of transmission threatens our sense of agency, but the safety measures put in place to contain the spread of the virus also require social distancing by refraining from doing what is inherently human, which is to find solace in the company of others. Within this context of physical threat, social and physical distancing, as well as public alarm, what has been (and can be) the role of the different mass media channels in our lives on individual, social and societal levels? Mass media have long been recognized as powerful forces shaping how we experience the world and ourselves. This recognition is accompanied by a growing volume of research, that closely follows the footsteps of technological transformations (e.g. radio, movies, television, the internet, mobiles) and the zeitgeist (e.g. cold war, 9/11, climate change) in an attempt to map mass media major impacts on how we perceive ourselves, both as individuals and citizens. Are media (broadcast and digital) still able to convey a sense of unity reaching large audiences, or are messages lost in the noisy crowd of mass self-communication? \"\"\"\n",
        "doc=nlp(text)\n",
        "for sentence in doc.sents:\n",
        "  print(sentence)\n",
        "  print(' ')\n",
        "nltk.sent_tokenize(text)"
      ],
      "execution_count": 6,
      "outputs": [
        {
          "output_type": "stream",
          "text": [
            "The outbreak of coronavirus disease 2019 (COVID-19) has created a global health crisis that has had a deep impact on the way we perceive our world and our everyday lives.\n",
            " \n",
            "Not only the rate of contagion and patterns of transmission threatens our sense of agency, but the safety measures put in place to contain the spread of the virus also require social distancing by refraining from doing what is inherently human, which is to find solace in the company of others.\n",
            " \n",
            "Within this context of physical threat, social and physical distancing, as well as public alarm, what has been (and can be)\n",
            " \n",
            "the role of the different mass media channels in our lives on individual, social and societal levels?\n",
            " \n",
            "Mass media have long been recognized as powerful forces shaping how we experience the world and ourselves.\n",
            " \n",
            "This recognition is accompanied by a growing volume of research, that closely follows the footsteps of technological transformations (e.g. radio, movies, television, the internet, mobiles) and the zeitgeist (e.g. cold war, 9/11, climate change) in an attempt to map mass media major impacts on how we perceive ourselves, both as individuals and citizens.\n",
            " \n",
            "Are media (broadcast and digital) still able to convey a sense of unity reaching large audiences, or are messages lost in the noisy crowd of mass self-communication?\n",
            " \n"
          ],
          "name": "stdout"
        },
        {
          "output_type": "execute_result",
          "data": {
            "text/plain": [
              "['The outbreak of coronavirus disease 2019 (COVID-19) has created a global health crisis that has had a deep impact on the way we perceive our world and our everyday lives.',\n",
              " 'Not only the rate of contagion and patterns of transmission threatens our sense of agency, but the safety measures put in place to contain the spread of the virus also require social distancing by refraining from doing what is inherently human, which is to find solace in the company of others.',\n",
              " 'Within this context of physical threat, social and physical distancing, as well as public alarm, what has been (and can be) the role of the different mass media channels in our lives on individual, social and societal levels?',\n",
              " 'Mass media have long been recognized as powerful forces shaping how we experience the world and ourselves.',\n",
              " 'This recognition is accompanied by a growing volume of research, that closely follows the footsteps of technological transformations (e.g.',\n",
              " 'radio, movies, television, the internet, mobiles) and the zeitgeist (e.g.',\n",
              " 'cold war, 9/11, climate change) in an attempt to map mass media major impacts on how we perceive ourselves, both as individuals and citizens.',\n",
              " 'Are media (broadcast and digital) still able to convey a sense of unity reaching large audiences, or are messages lost in the noisy crowd of mass self-communication?']"
            ]
          },
          "metadata": {
            "tags": []
          },
          "execution_count": 6
        }
      ]
    },
    {
      "cell_type": "code",
      "metadata": {
        "colab": {
          "base_uri": "https://localhost:8080/"
        },
        "id": "8QtKz4MpiQVY",
        "outputId": "12d95ff9-e0eb-4a75-dfdd-c1862b5716ac"
      },
      "source": [
        "text = \"Walter was feeling anxious. He was diagnosed today. He probably is the best person I know.\"\n",
        "stop_words_and_delims = ['was', 'is', 'the', '.', ',', '-', '!', '?']\n",
        "for r in stop_words_and_delims:\n",
        "    text = text.replace(r, 'DELIM')\n",
        "\n",
        "words = [t.strip() for t in text.split('DELIM')]\n",
        "words_filtered = list(filter(lambda a: a not in [''], words))\n",
        "words_filtered"
      ],
      "execution_count": 8,
      "outputs": [
        {
          "output_type": "execute_result",
          "data": {
            "text/plain": [
              "['Walter',\n",
              " 'feeling anxious',\n",
              " 'He',\n",
              " 'diagnosed today',\n",
              " 'He probably',\n",
              " 'best person I know']"
            ]
          },
          "metadata": {
            "tags": []
          },
          "execution_count": 8
        }
      ]
    },
    {
      "cell_type": "code",
      "metadata": {
        "colab": {
          "base_uri": "https://localhost:8080/",
          "height": 177
        },
        "id": "4UhIYacqixTI",
        "outputId": "5142c6af-7e80-4f8f-a1ed-64a3297178c2"
      },
      "source": [
        "text=\"\"\"the outbreak of coronavirus disease 2019 (COVID-19) has created a global health crisis that has had a deep impact on the way we perceive our world and our everyday lives. Not only the rate of contagion and patterns of transmission threatens our sense of agency, but the safety measures put in place to contain the spread of the virus also require social distancing by refraining from doing what is inherently human, which is to find solace in the company of others. Within this context of physical threat, social and physical distancing, as well as public alarm, what has been (and can be) the role of the different mass media channels in our lives on individual, social and societal levels? Mass media have long been recognized as powerful forces shaping how we experience the world and ourselves. This recognition is accompanied by a growing volume of research, that closely follows the footsteps of technological transformations (e.g. radio, movies, television, the internet, mobiles) and the zeitgeist (e.g. cold war, 9/11, climate change) in an attempt to map mass media major impacts on how we perceive ourselves, both as individuals and citizens. Are media (broadcast and digital) still able to convey a sense of unity reaching large audiences, or are messages lost in the noisy crowd of mass self-communication? \"\"\"\n",
        "from nltk.corpus import stopwords\n",
        "my_stopwords=set(stopwords.words('english'))\n",
        "new_tokens=[]\n",
        "all_tokens=nltk.word_tokenize(text)\n",
        "\n",
        "for token in all_tokens:\n",
        "  if token not in my_stopwords:\n",
        "    new_tokens.append(token)\n",
        "\n",
        "\n",
        "\" \".join(new_tokens)"
      ],
      "execution_count": 9,
      "outputs": [
        {
          "output_type": "execute_result",
          "data": {
            "application/vnd.google.colaboratory.intrinsic+json": {
              "type": "string"
            },
            "text/plain": [
              "'outbreak coronavirus disease 2019 ( COVID-19 ) created global health crisis deep impact way perceive world everyday lives . Not rate contagion patterns transmission threatens sense agency , safety measures put place contain spread virus also require social distancing refraining inherently human , find solace company others . Within context physical threat , social physical distancing , well public alarm , ( ) role different mass media channels lives individual , social societal levels ? Mass media long recognized powerful forces shaping experience world . This recognition accompanied growing volume research , closely follows footsteps technological transformations ( e.g . radio , movies , television , internet , mobiles ) zeitgeist ( e.g . cold war , 9/11 , climate change ) attempt map mass media major impacts perceive , individuals citizens . Are media ( broadcast digital ) still able convey sense unity reaching large audiences , messages lost noisy crowd mass self-communication ?'"
            ]
          },
          "metadata": {
            "tags": []
          },
          "execution_count": 9
        }
      ]
    },
    {
      "cell_type": "code",
      "metadata": {
        "colab": {
          "base_uri": "https://localhost:8080/",
          "height": 35
        },
        "id": "voVvBSkDi9gS",
        "outputId": "059a8234-0411-4f94-9bbb-2b73c68d1d1e"
      },
      "source": [
        "text=\"The match has concluded !!! India has won the match . Will we fin the finals too ? !\"\n",
        "doc=nlp(text)\n",
        "new_tokens=[]\n",
        "for token in doc:\n",
        "  if token.is_punct==False:\n",
        "    new_tokens.append(token.text)\n",
        "\n",
        "\" \".join(new_tokens)"
      ],
      "execution_count": 10,
      "outputs": [
        {
          "output_type": "execute_result",
          "data": {
            "application/vnd.google.colaboratory.intrinsic+json": {
              "type": "string"
            },
            "text/plain": [
              "'The match has concluded India has won the match Will we fin the finals too'"
            ]
          },
          "metadata": {
            "tags": []
          },
          "execution_count": 10
        }
      ]
    },
    {
      "cell_type": "code",
      "metadata": {
        "colab": {
          "base_uri": "https://localhost:8080/",
          "height": 53
        },
        "id": "OrqvsibvjJ-Y",
        "outputId": "07fd5557-5e3a-4ee2-d5cd-a4998e1ccfab"
      },
      "source": [
        "text= \"Dancing is an art. Students should be taught dance as a subject in schools . I danced in many of my school function. Some people are always hesitating to dance.\"\n",
        "\n",
        "from nltk.stem import PorterStemmer \n",
        "stemmer=PorterStemmer()\n",
        "stemmed_tokens=[]\n",
        "for token in nltk.word_tokenize(text):\n",
        "  stemmed_tokens.append(stemmer.stem(token))\n",
        "\n",
        "\" \".join(stemmed_tokens)"
      ],
      "execution_count": 11,
      "outputs": [
        {
          "output_type": "execute_result",
          "data": {
            "application/vnd.google.colaboratory.intrinsic+json": {
              "type": "string"
            },
            "text/plain": [
              "'danc is an art . student should be taught danc as a subject in school . I danc in mani of my school function . some peopl are alway hesit to danc .'"
            ]
          },
          "metadata": {
            "tags": []
          },
          "execution_count": 11
        }
      ]
    },
    {
      "cell_type": "code",
      "metadata": {
        "colab": {
          "base_uri": "https://localhost:8080/",
          "height": 53
        },
        "id": "XdTIFMNPjRxB",
        "outputId": "6e16396b-2f3d-462c-aff4-5ff8ca9b5466"
      },
      "source": [
        "text= \"Dancing is an art. Students should be taught dance as a subject in schools . I danced in many of my school function. Some people are always hesitating to dance.\"\n",
        "nlp=spacy.load(\"en_core_web_sm\")\n",
        "doc=nlp(text)\n",
        "\n",
        "lemmatized=[token.lemma_ for token in doc]\n",
        "\" \".join(lemmatized)"
      ],
      "execution_count": 12,
      "outputs": [
        {
          "output_type": "execute_result",
          "data": {
            "application/vnd.google.colaboratory.intrinsic+json": {
              "type": "string"
            },
            "text/plain": [
              "'dancing be an art . student should be teach dance as a subject in school . -PRON- dance in many of -PRON- school function . some people be always hesitate to dance .'"
            ]
          },
          "metadata": {
            "tags": []
          },
          "execution_count": 12
        }
      ]
    }
  ]
}